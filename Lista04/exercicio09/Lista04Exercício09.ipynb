{
  "nbformat": 4,
  "nbformat_minor": 0,
  "metadata": {
    "colab": {
      "name": "Lista04Exercício09.ipynb",
      "provenance": [],
      "collapsed_sections": []
    },
    "kernelspec": {
      "name": "python3",
      "display_name": "Python 3"
    }
  },
  "cells": [
    {
      "cell_type": "code",
      "metadata": {
        "id": "ZI5WiNDCN6yZ"
      },
      "source": [
        "# Disciplina: Probabilidade e Estatística\n",
        "# Aluno: Thiago Gonçalves Milanez Alves\n",
        "# Matrícula: 20114290004\n",
        "# Lista 4\n",
        "\n",
        "#EX09\n",
        "'''#Recebendo o número de 4 digitos\n",
        "numero = int (input('Entre com um número de 4 digitos: '))\n",
        "\n",
        "#Extraindo a unidade\n",
        "unidade = numero % 10\n",
        "\n",
        "#Retirando a unidade\n",
        "numero = (numero - unidade)/10\n",
        "\n",
        "#Extraindo a dezena\n",
        "dezena = numero % 10\n",
        "\n",
        "#Retirando a dezena\n",
        "numero = (numero - dezena)/10\n",
        "\n",
        "#Extraindo a centena\n",
        "centena = numero % 10\n",
        "\n",
        "#Retirando a centena\n",
        "numero = (numero - centena)/10\n",
        "\n",
        "#Resta o milhar\n",
        "milhar = numero\n",
        "\n",
        "#Tornando-os inteiro\n",
        "dezena = int(dezena)\n",
        "centena = int(centena)\n",
        "milhar = int(milhar)\n",
        "\n",
        "#Exibindo os dados\n",
        "print('Unidade=', unidade, 'Dezena=', dezena, 'Centena=', centena, 'Milhar=', milhar)'''"
      ],
      "execution_count": null,
      "outputs": []
    }
  ]
}