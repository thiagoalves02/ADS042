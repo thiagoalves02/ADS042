{
  "nbformat": 4,
  "nbformat_minor": 0,
  "metadata": {
    "colab": {
      "name": "Lista04Exercício04.ipynb",
      "provenance": [],
      "collapsed_sections": []
    },
    "kernelspec": {
      "name": "python3",
      "display_name": "Python 3"
    }
  },
  "cells": [
    {
      "cell_type": "code",
      "metadata": {
        "id": "byGdQKaWNxcp"
      },
      "source": [
        "# Disciplina: Probabilidade e Estatística\n",
        "# Aluno: Thiago Gonçalves Milanez Alves\n",
        "# Matrícula: 20114290004\n",
        "# Lista 4\n",
        "\n",
        "#EX04\n",
        "'''#Recebendo a medida dos 3 lados\n",
        "lado1 = input('Insira a primeira medida: ')\n",
        "lado2 = input('Insira a segunda medida: ')\n",
        "lado3 = input('Insira a teceira medida: ')\n",
        "\n",
        "#Condição para identificar o tipo do Triângulo\n",
        "if (lado1 == lado2 and lado1 == lado3 and lado2 == lado3):\n",
        "  print('Triângulo Equilátero')\n",
        "if (lado1 == lado2 or lado1 == lado3 or lado2 == lado3):\n",
        "  print('Triângulo Isóscele')\n",
        "if (lado1 != lado2 and lado1 != lado3 and lado2 != lado3):\n",
        "  print('Triângulo Escaleno')'''\n"
      ],
      "execution_count": null,
      "outputs": []
    }
  ]
}