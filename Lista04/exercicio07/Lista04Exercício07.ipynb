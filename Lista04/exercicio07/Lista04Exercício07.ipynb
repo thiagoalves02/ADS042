{
  "nbformat": 4,
  "nbformat_minor": 0,
  "metadata": {
    "colab": {
      "name": "Lista04Exercício07.ipynb",
      "provenance": [],
      "collapsed_sections": []
    },
    "kernelspec": {
      "name": "python3",
      "display_name": "Python 3"
    }
  },
  "cells": [
    {
      "cell_type": "code",
      "metadata": {
        "id": "rPh_lWxaN3Oy"
      },
      "source": [
        "# Disciplina: Probabilidade e Estatística\n",
        "# Aluno: Thiago Gonçalves Milanez Alves\n",
        "# Matrícula: 20114290004\n",
        "# Lista 4\n",
        "\n",
        "#EX07\n",
        "'''#Recebendo o número \n",
        "num = int (input('Entre com um número de 1 a 4: '))\n",
        "#Fazendo a condição para que aceite somente número de 1 a 4 e caso contrário repita o processo para receber o número\n",
        "while (num < 1 or num > 4):\n",
        "  print('Entrada Inválida')\n",
        "  num = int (input('Entre com um número de 1 a 4: '))\n",
        "#Imprimir o resultado para números digitados de 1 a 4\n",
        "else:\n",
        "  print('Número digitado: ', num)'''"
      ],
      "execution_count": null,
      "outputs": []
    }
  ]
}