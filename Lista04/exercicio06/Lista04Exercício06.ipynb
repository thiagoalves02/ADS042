{
  "nbformat": 4,
  "nbformat_minor": 0,
  "metadata": {
    "colab": {
      "name": "Lista04Exercício06.ipynb",
      "provenance": [],
      "collapsed_sections": []
    },
    "kernelspec": {
      "name": "python3",
      "display_name": "Python 3"
    }
  },
  "cells": [
    {
      "cell_type": "code",
      "metadata": {
        "id": "nedwM6yAN1ED"
      },
      "source": [
        "# Disciplina: Probabilidade e Estatística\n",
        "# Aluno: Thiago Gonçalves Milanez Alves\n",
        "# Matrícula: 20114290004\n",
        "# Lista 4\n",
        "\n",
        "#EX06\n",
        "'''#Recebendo o número\n",
        "numero = int (input('Insira um número: '))\n",
        "#Exibindo números de 0 até o número digitado com a função RANGE\n",
        "for sequencia in range(numero):\n",
        "  print(sequencia)'''"
      ],
      "execution_count": null,
      "outputs": []
    }
  ]
}