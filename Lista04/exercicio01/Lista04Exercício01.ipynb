{
  "nbformat": 4,
  "nbformat_minor": 0,
  "metadata": {
    "colab": {
      "name": "Lista04Exercício01.ipynb",
      "provenance": [],
      "collapsed_sections": []
    },
    "kernelspec": {
      "name": "python3",
      "display_name": "Python 3"
    }
  },
  "cells": [
    {
      "cell_type": "code",
      "metadata": {
        "id": "A9wUjwR9DlLF",
        "colab": {
          "base_uri": "https://localhost:8080/",
          "height": 69
        },
        "outputId": "0325cb97-962c-4ae1-e94c-047901d8aa1f"
      },
      "source": [
        "# Disciplina: Probabilidade e Estatística\n",
        "# Aluno: Thiago Gonçalves Milanez Alves\n",
        "# Matrícula: 20114290004\n",
        "# Lista 4\n",
        "\n",
        "#EX01\n",
        "'''#Recebendo a quantidade de lado e a medida em cm\n",
        "num = int (input('Entre com a quantidade de lados: '))\n",
        "cm = int (input('Entre com a medida em cm: '))\n",
        "\n",
        "#Fazendo cálculo da área\n",
        "area = num * cm\n",
        "\n",
        "#Condição para apresentar a resposta\n",
        "if (num == 3):\n",
        "  print('TRIÂNGULO', area,'cm')\n",
        "if (num == 4):\n",
        "  print('QUADRADO', area,'cm')\n",
        "if (num == 5):\n",
        "  print('PENTÁGONO')'''"
      ],
      "execution_count": null,
      "outputs": [
        {
          "output_type": "execute_result",
          "data": {
            "application/vnd.google.colaboratory.intrinsic+json": {
              "type": "string"
            },
            "text/plain": [
              "\"#Recebendo o número de 4 digitos\\nnumero = int (input('Entre com um número de 4 digitos: '))\\n\\n#Extraindo a unidade\\nunidade = numero % 10\\n\\n#Retirando a unidade\\nnumero = (numero - unidade)/10\\n\\n#Extraindo a dezena\\ndezena = numero % 10\\n\\n#Retirando a dezena\\nnumero = (numero - dezena)/10\\n\\n#Extraindo a centena\\ncentena = numero % 10\\n\\n#Retirando a centena\\nnumero = (numero - centena)/10\\n\\n#Resta o milhar\\nmilhar = numero\\n\\n#Tornando-os inteiro\\ndezena = int(dezena)\\ncentena = int(centena)\\nmilhar = int(milhar)\\n\\n#Exibindo os dados\\nprint('Unidade=', unidade, 'Dezena=', dezena, 'Centena=', centena, 'Milhar=', milhar)\""
            ]
          },
          "metadata": {
            "tags": []
          },
          "execution_count": 1
        }
      ]
    }
  ]
}