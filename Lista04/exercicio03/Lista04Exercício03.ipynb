{
  "nbformat": 4,
  "nbformat_minor": 0,
  "metadata": {
    "colab": {
      "name": "Lista04Exercício03.ipynb",
      "provenance": [],
      "collapsed_sections": []
    },
    "kernelspec": {
      "name": "python3",
      "display_name": "Python 3"
    }
  },
  "cells": [
    {
      "cell_type": "code",
      "metadata": {
        "id": "o8xHfHO6NgXc"
      },
      "source": [
        "# Disciplina: Probabilidade e Estatística\n",
        "# Aluno: Thiago Gonçalves Milanez Alves\n",
        "# Matrícula: 20114290004\n",
        "# Lista 4\n",
        "\n",
        "#EX03\n",
        "'''#Recebendo os 3 números\n",
        "num1 = int (input('Insira o primeiro número: '))\n",
        "num2 = int (input('Insira o segundo número: '))\n",
        "num3 = int (input('Insira o terceiro número: '))\n",
        "#Alimentando a lista\n",
        "lista = [num1, num2, num3]\n",
        "#Condição para identificar números iguais\n",
        "if (num1 == num2 or num1 == num3 or num2 == num3):\n",
        "  print('Números repetidos')\n",
        "#Se não tiver números iguais, vai exibir o maior número digitado através da função MAX\n",
        "else:\n",
        "  print('Maior número da lista: ', max(lista))'''\n"
      ],
      "execution_count": null,
      "outputs": []
    }
  ]
}