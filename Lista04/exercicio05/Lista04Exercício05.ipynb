{
  "nbformat": 4,
  "nbformat_minor": 0,
  "metadata": {
    "colab": {
      "name": "Lista04Exercício05.ipynb",
      "provenance": [],
      "collapsed_sections": []
    },
    "kernelspec": {
      "name": "python3",
      "display_name": "Python 3"
    }
  },
  "cells": [
    {
      "cell_type": "code",
      "metadata": {
        "id": "e0YWsQKBNzVx"
      },
      "source": [
        "# Disciplina: Probabilidade e Estatística\n",
        "# Aluno: Thiago Gonçalves Milanez Alves\n",
        "# Matrícula: 20114290004\n",
        "# Lista 4\n",
        "\n",
        "#EX05\n",
        "'''#Recebendo a medida dos 3 ângulos\n",
        "angulo1 = int (input('Insira o primeiro ângulo: '))\n",
        "angulo2 = int (input('Insira o segundo ângulo: '))\n",
        "angulo3 = int (input('Insira o teceiro ângulo: '))\n",
        "\n",
        "#Condição para identificar o tipo do Triângulo\n",
        "if (angulo1 == 90 or angulo2 == 90 or angulo3 == 90):\n",
        "  print('Triângulo Retângulo')\n",
        "if (angulo1 > 90 or angulo2 > 90 or angulo3 > 90):\n",
        "  print('Triângulo Obtusângulo')\n",
        "if (angulo1 < 90 and angulo2 < 90 and angulo3 < 90):\n",
        "  print('Triângulo Acutângulo')'''"
      ],
      "execution_count": null,
      "outputs": []
    }
  ]
}