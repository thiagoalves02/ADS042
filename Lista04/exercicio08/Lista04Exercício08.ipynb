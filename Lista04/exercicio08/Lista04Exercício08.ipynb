{
  "nbformat": 4,
  "nbformat_minor": 0,
  "metadata": {
    "colab": {
      "name": "Lista04Exercício08.ipynb",
      "provenance": [],
      "collapsed_sections": []
    },
    "kernelspec": {
      "name": "python3",
      "display_name": "Python 3"
    }
  },
  "cells": [
    {
      "cell_type": "code",
      "metadata": {
        "id": "GNUNd6R8N5Bt",
        "colab": {
          "base_uri": "https://localhost:8080/"
        },
        "outputId": "246d1be9-72ab-4916-a6f8-26c7c5598fe9"
      },
      "source": [
        "# Disciplina: Probabilidade e Estatística\n",
        "# Aluno: Thiago Gonçalves Milanez Alves\n",
        "# Matrícula: 20114290004\n",
        "# Lista 4\n",
        "\n",
        "'''#EX08\n",
        "#Iniciando a lista e recebendo o número\n",
        "lista = []\n",
        "num = int (input('Entre com um número inteiro: '))\n",
        "\n",
        "#Criando a condição WHILE para que o programa rode até o 0(Zero) seja digitado\n",
        "while (num != 0):\n",
        "  lista.append(num)\n",
        "  print('Maior número da lista: ', max(lista))\n",
        "  num = int (input('Entre com um número inteiro: '))\n",
        "else:\n",
        "  print('Programa encerrado')'''"
      ],
      "execution_count": null,
      "outputs": [
        {
          "output_type": "stream",
          "text": [
            "Entre com um número inteiro: 2\n",
            "Maior número da lista:  2\n",
            "Entre com um número inteiro: 8\n",
            "Maior número da lista:  8\n",
            "Entre com um número inteiro: 4\n",
            "Maior número da lista:  8\n",
            "Entre com um número inteiro: 9\n"
          ],
          "name": "stdout"
        }
      ]
    }
  ]
}