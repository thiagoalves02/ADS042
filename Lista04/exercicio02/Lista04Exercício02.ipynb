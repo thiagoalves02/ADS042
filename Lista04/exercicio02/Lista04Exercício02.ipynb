{
  "nbformat": 4,
  "nbformat_minor": 0,
  "metadata": {
    "colab": {
      "name": "Lista04Exercício02.ipynb",
      "provenance": [],
      "collapsed_sections": []
    },
    "kernelspec": {
      "name": "python3",
      "display_name": "Python 3"
    }
  },
  "cells": [
    {
      "cell_type": "code",
      "metadata": {
        "id": "YtK4N0xVNVU_"
      },
      "source": [
        "# Disciplina: Probabilidade e Estatística\n",
        "# Aluno: Thiago Gonçalves Milanez Alves\n",
        "# Matrícula: 20114290004\n",
        "# Lista 4\n",
        "\n",
        "#EX02\n",
        "'''#Recebendo a quantidade de lado e a medida em cm\n",
        "num = int (input('Entre com a quantidade de lados: '))\n",
        "cm = int (input('Entre com a medida em cm: '))\n",
        "\n",
        "#Fazendo cálculo da área\n",
        "area = num * cm\n",
        "\n",
        "#Condição para apresentar a resposta\n",
        "if (num < 3):\n",
        "  print('NÃO É UM POLÍGONO')\n",
        "if (num == 3):\n",
        "  print('TRIÂNGULO', area,'cm')\n",
        "if (num == 4):\n",
        "  print('QUADRADO', area,'cm')\n",
        "if (num == 5):\n",
        "  print('PENTÁGONO')\n",
        "if (num > 5):\n",
        "  print('POLÍGONO NÃO IDENTIFICADO')'''"
      ],
      "execution_count": null,
      "outputs": []
    }
  ]
}