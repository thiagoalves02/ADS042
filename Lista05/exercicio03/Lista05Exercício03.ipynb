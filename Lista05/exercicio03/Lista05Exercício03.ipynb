{
  "nbformat": 4,
  "nbformat_minor": 0,
  "metadata": {
    "colab": {
      "name": "Lista05Exercício03.ipynb",
      "provenance": [],
      "collapsed_sections": []
    },
    "kernelspec": {
      "name": "python3",
      "display_name": "Python 3"
    }
  },
  "cells": [
    {
      "cell_type": "code",
      "metadata": {
        "id": "oTDTCOmleOrD"
      },
      "source": [
        "# Disciplina: Probabilidade e Estatística\n",
        "# Aluno: Thiago Gonçalves Milanez Alves\n",
        "# Matrícula: 20114290004\n",
        "# Lista 05\n",
        "\n",
        "#EX03\n",
        "'''#Fazendo a importação do Statistics para untilização das funções\n",
        "import statistics\n",
        "#Preenchendo a lista com os dados de kg fornecidos\n",
        "kg = [4.0, 4.5, 5.0, 5.0, 5.5, 6.0, 6.0, 6.5, 6.5, 6.5, 6.5, 7.0, 7.0, 7.0, 7.0, 7.0, 7.5, 8.5, 9.0, 9.0, 9.0, 9.5, 10.0, 10.0, 10.5, 11.0, 12.0, 12.5, 13.0, 13.0]\n",
        "#Utilizando a função STDEV e MEAN para para exibir o Coeficiente de Variância\n",
        "print('Coeficente de variância: ', (statistics.stdev(kg) / statistics.mean(kg)) * 100)'''"
      ],
      "execution_count": null,
      "outputs": []
    }
  ]
}