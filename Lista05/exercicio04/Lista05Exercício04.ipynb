{
  "nbformat": 4,
  "nbformat_minor": 0,
  "metadata": {
    "colab": {
      "name": "Lista05Exercício04.ipynb",
      "provenance": [],
      "collapsed_sections": []
    },
    "kernelspec": {
      "name": "python3",
      "display_name": "Python 3"
    }
  },
  "cells": [
    {
      "cell_type": "code",
      "metadata": {
        "id": "udm2JdADeNxI"
      },
      "source": [
        "# Disciplina: Probabilidade e Estatística\n",
        "# Aluno: Thiago Gonçalves Milanez Alves\n",
        "# Matrícula: 20114290004\n",
        "# Lista 05\n",
        "\n",
        "#EX04\n",
        "'''#Fazendo a importação do Statistics para untilização das funções\n",
        "import statistics\n",
        "#Preenchendo a lista com os dados de toneladas fornecidos\n",
        "tonelada = [12, 12, 14, 15, 17, 18, 18, 22, 23, 29]\n",
        "#Utilizando a função MEAN para para exibir a Média aritmética simples\n",
        "print('Méria aritmética simples: ', statistics.mean(tonelada))\n",
        "#Utilizando a função MEDIAN para para exibir o Mediana\n",
        "print('Mediana: ', statistics.median(tonelada))\n",
        "#Utilizando a função STDEV para para exibir o Desvio Padrão\n",
        "print('Desvio Padrão: ',statistics.stdev(tonelada))'''"
      ],
      "execution_count": null,
      "outputs": []
    }
  ]
}