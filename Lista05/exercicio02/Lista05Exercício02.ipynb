{
  "nbformat": 4,
  "nbformat_minor": 0,
  "metadata": {
    "colab": {
      "name": "Lista05Exercício02.ipynb",
      "provenance": [],
      "collapsed_sections": []
    },
    "kernelspec": {
      "name": "python3",
      "display_name": "Python 3"
    }
  },
  "cells": [
    {
      "cell_type": "code",
      "metadata": {
        "id": "UyhrRfSNePLw"
      },
      "source": [
        "# Disciplina: Probabilidade e Estatística\n",
        "# Aluno: Thiago Gonçalves Milanez Alves\n",
        "# Matrícula: 20114290004\n",
        "# Lista 05\n",
        "\n",
        "#EX02\n",
        "'''#Fazendo a importação para utilização da função GMEAN\n",
        "from scipy.stats.mstats import gmean\n",
        "#Fazendo a importação do Statistics para untilização das funções\n",
        "import statistics\n",
        "#Preenchendo a lista com os dados de escala fornecidos\n",
        "escala = [63, 67, 72, 75, 77, 77, 78, 80, 81]\n",
        "#Utilizando a função MEAN para para exibir a Média aritmética simples\n",
        "print('Méria aritmética simples: ', statistics.mean(escala))\n",
        "#Utilizando a função HARMONIC_MEAN para para exibir a Média Harmônica\n",
        "print('Média Harmônica: ', statistics.harmonic_mean(escala))\n",
        "#Utilizando a função GMEAN para para exibir a Média Geometrica\n",
        "print('Média Geométrica: ', gmean(escala))\n",
        "#Utilizando a função MODE para para exibir a MODA\n",
        "print('Moda: ', statistics.mode(escala))\n",
        "#Utilizando a função MEDIAN para para exibir o Mediana\n",
        "print('Mediana: ', statistics.median(escala))\n",
        "#Utilizando a função VARIANCE para para exibir a Variância\n",
        "print('Variância: ',statistics.variance(escala))\n",
        "#Utilizando a função STDEV para para exibir o Desvio Padrão\n",
        "print('Desvio Padrão: ',statistics.stdev(escala))'''"
      ],
      "execution_count": null,
      "outputs": []
    }
  ]
}