{
  "nbformat": 4,
  "nbformat_minor": 0,
  "metadata": {
    "colab": {
      "name": "Lista05Exercício06.ipynb",
      "provenance": [],
      "collapsed_sections": []
    },
    "kernelspec": {
      "name": "python3",
      "display_name": "Python 3"
    }
  },
  "cells": [
    {
      "cell_type": "code",
      "metadata": {
        "id": "llnk1PjSeMsh"
      },
      "source": [
        "# Disciplina: Probabilidade e Estatística\n",
        "# Aluno: Thiago Gonçalves Milanez Alves\n",
        "# Matrícula: 20114290004\n",
        "# Lista 05\n",
        "\n",
        "#EX06\n",
        "'''#Recebendo as 3 notas\n",
        "nota1 = int(input('Entre com a primeira nota: '))\n",
        "nota2 = int(input('Entre com a segunda nota: '))\n",
        "nota3 = int(input('Entre com a terceira nota: '))\n",
        "\n",
        "#Fazendo a Média Ponderada\n",
        "media_ponderada = (nota1 * 3 + nota2 * 4 + nota3 * 3) / (3 + 4 + 3)\n",
        "\n",
        "#Validando se as notas digitadas estão dentro do intervalo de 0 a 10\n",
        "if (nota1 < 0 or nota1 > 10):\n",
        "  print('Nota 1 inválida')\n",
        "elif (nota2 < 0 or nota2 > 10):\n",
        "  print('Nota 2 inválida')\n",
        "elif (nota3 < 0 or nota3 > 10):\n",
        "  print('Nota 3 inválida')\n",
        "else:\n",
        "  #Exibindo a média ponderada\n",
        "  print('Média ponderada do aluno: ', media_ponderada)'''"
      ],
      "execution_count": null,
      "outputs": []
    }
  ]
}