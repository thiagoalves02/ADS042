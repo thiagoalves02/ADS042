{
  "nbformat": 4,
  "nbformat_minor": 0,
  "metadata": {
    "colab": {
      "name": "Lista05Exercício05.ipynb",
      "provenance": [],
      "collapsed_sections": []
    },
    "kernelspec": {
      "name": "python3",
      "display_name": "Python 3"
    }
  },
  "cells": [
    {
      "cell_type": "code",
      "metadata": {
        "id": "HCdzTxM1eM-V"
      },
      "source": [
        "# Disciplina: Probabilidade e Estatística\n",
        "# Aluno: Thiago Gonçalves Milanez Alves\n",
        "# Matrícula: 20114290004\n",
        "# Lista 05\n",
        "\n",
        "#EX05\n",
        "'''#Fazendo a importação para utilização da função GMEAN\n",
        "from scipy.stats.mstats import gmean\n",
        "#Fazendo a importação do Statistics para untilização das funções\n",
        "import statistics\n",
        "#Iniciando a lista vazia\n",
        "lista = []\n",
        "#Iniciando a variavel nota com tipo inteiro\n",
        "nota = int\n",
        "#Condição WHILE para rodar o programa até que o código de saída seja digitado\n",
        "while (nota != (-999)):\n",
        "  #Recebe a nota do aluno \n",
        "  nota = int (input('Entre com a nota do aluno: '))\n",
        "  #Condição para verificar se a nota digitada está entre 0 e 10\n",
        "  if (nota < 0 or nota > 10):\n",
        "    #Condição para finalizar o programa\n",
        "    if (nota == (-999)):\n",
        "      print('Programa encerrado')\n",
        "    #Se a nota inserida for menor que 0 e maior que 10 exibe a mensagem de erro  \n",
        "    else:\n",
        "      print('Nota inválida')\n",
        "  #Se a nota estiver correta e não for o código de saída a nota é inserida na lista\n",
        "  else:\n",
        "    lista.append(nota)\n",
        "else:\n",
        "  #Lista é organizada na ordem crescente\n",
        "  lista.sort()\n",
        "  #Utilizando a função MEAN para para exibir a Média aritmética simples\n",
        "  print('Méria aritmética simples: ', statistics.mean(lista))\n",
        "  #Utilizando a função HARMONIC_MEAN para para exibir a Média Harmônica\n",
        "  print('Média Harmônica: ', statistics.harmonic_mean(lista))\n",
        "  #Utilizando a função GMEAN para para exibir a Média Geometrica\n",
        "  print('Média Geométrica: ', gmean(lista))\n",
        "  #Utilizando a função MODE para para exibir a MODA\n",
        "  print('Moda: ', statistics.mode(lista))\n",
        "  #Utilizando a função VARIANCE para para exibir a Variância\n",
        "  print('Variância: ',statistics.variance(lista))\n",
        "  #Utilizando a função STDEV para para exibir o Desvio Padrão\n",
        "  print('Desvio Padrão: ',statistics.stdev(lista))\n",
        "  #Utilizando a função STDEV e MEAN para para exibir o Coeficiente de Variância\n",
        "  print('Coeficente de variância: ', (statistics.stdev(lista) / statistics.mean(lista)) * 100)'''"
      ],
      "execution_count": null,
      "outputs": []
    }
  ]
}