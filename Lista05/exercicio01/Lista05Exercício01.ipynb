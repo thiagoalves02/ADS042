{
  "nbformat": 4,
  "nbformat_minor": 0,
  "metadata": {
    "colab": {
      "name": "Lista05Exercício01.ipynb",
      "provenance": [],
      "collapsed_sections": []
    },
    "kernelspec": {
      "name": "python3",
      "display_name": "Python 3"
    }
  },
  "cells": [
    {
      "cell_type": "code",
      "metadata": {
        "id": "jiZ3SGCaePke"
      },
      "source": [
        "# Disciplina: Probabilidade e Estatística\n",
        "# Aluno: Thiago Gonçalves Milanez Alves\n",
        "# Matrícula: 20114290004\n",
        "# Lista 05\n",
        "\n",
        "#EX01\n",
        "'''#Fazendo a importação para utilização da função GMEAN\n",
        "from scipy.stats.mstats import gmean\n",
        "#Fazendo a importação do Statistics para untilização das funções\n",
        "import statistics\n",
        "#Preenchendo a lista com os dados de consumo fornecidos\n",
        "consumo = [7, 8, 9, 10, 11, 13, 13, 17]\n",
        "#Utilizando a função MEAN para para exibir a Média aritmética simples\n",
        "print('Média aritmética simples: ', statistics.mean(consumo))\n",
        "#Utilizando a função HARMONIC_MEAN para para exibir a Média Harmônica\n",
        "print('Média Harmônica: ', statistics.harmonic_mean(consumo))\n",
        "#Utilizando a função GMEAN para para exibir a Média Geometrica\n",
        "print('Média Geométrica: ', gmean(consumo))\n",
        "#Utilizando a função MODE para para exibir a MODA\n",
        "print('Moda: ', statistics.mode(consumo))\n",
        "#Utilizando a função VARIANCE para para exibir a Variância\n",
        "print('Variância: ',statistics.variance(consumo))\n",
        "#Utilizando a função STDEV para para exibir o Desvio Padrão\n",
        "print('Desvio Padrão: ',statistics.stdev(consumo))'''"
      ],
      "execution_count": null,
      "outputs": []
    }
  ]
}