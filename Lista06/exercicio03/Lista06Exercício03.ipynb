{
  "nbformat": 4,
  "nbformat_minor": 0,
  "metadata": {
    "colab": {
      "name": "Lista06Exercício03.ipynb",
      "provenance": [],
      "collapsed_sections": []
    },
    "kernelspec": {
      "name": "python3",
      "display_name": "Python 3"
    }
  },
  "cells": [
    {
      "cell_type": "code",
      "metadata": {
        "id": "fVnuQuO9fxRk"
      },
      "source": [
        "# Disciplina: Probabilidade e Estatística\n",
        "# Aluno: Thiago Gonçalves Milanez Alves\n",
        "# Matrícula: 20114290004\n",
        "# Lista 06\n",
        "\n",
        "#EX03\n",
        "'''import pandas as pd \n",
        "dados = {\n",
        "    'AnoServico':[2, 3, 4, 5, 4, 6, 7, 8, 8, 10],\n",
        "    'Clientes':[48, 50, 56, 52, 43, 60, 62, 58, 64, 72]\n",
        "}\n",
        "\n",
        "x = pd.DataFrame(dados, columns = ['AnoServico', 'Clientes'])\n",
        "correlacao = x.corr()\n",
        "print(correlacao)\n",
        "print('Correlação positiva e forte!')'''"
      ],
      "execution_count": null,
      "outputs": []
    }
  ]
}