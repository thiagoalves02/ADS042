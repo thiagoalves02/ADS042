{
  "nbformat": 4,
  "nbformat_minor": 0,
  "metadata": {
    "colab": {
      "name": "Lista06Exercício06.ipynb",
      "provenance": [],
      "collapsed_sections": []
    },
    "kernelspec": {
      "name": "python3",
      "display_name": "Python 3"
    }
  },
  "cells": [
    {
      "cell_type": "code",
      "metadata": {
        "id": "aqvIpezhfvNL"
      },
      "source": [
        "# Disciplina: Probabilidade e Estatística\n",
        "# Aluno: Thiago Gonçalves Milanez Alves\n",
        "# Matrícula: 20114290004\n",
        "# Lista 06\n",
        "\n",
        "#EX06\n",
        "'''import pandas as pd\n",
        "import seaborn as sn\n",
        "import matplotlib.pyplot as plt\n",
        "dados = {\n",
        "    'Produtividade':[100, 102, 105, 108, 112, 120],\n",
        "    'Alimentação':[4, 5, 1, 3, 6, 2],\n",
        "    'Exercícios':[1, 3, 2, 4, 5, 6],\n",
        "    'Rodízio':[3, 1, 2, 6, 4, 5]\n",
        "}\n",
        "\n",
        "x = pd.DataFrame(dados, columns = ['Produtividade', 'Alimentação', 'Exercícios', 'Rodízio'])\n",
        "correlacao = x.corr()\n",
        "print(correlacao, '\\n')\n",
        "\n",
        "\n",
        "sn.heatmap(correlacao, annot=True)\n",
        "plt.show()'''"
      ],
      "execution_count": null,
      "outputs": []
    }
  ]
}