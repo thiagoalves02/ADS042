{
  "nbformat": 4,
  "nbformat_minor": 0,
  "metadata": {
    "colab": {
      "name": "Lista06Exercício04.ipynb",
      "provenance": [],
      "collapsed_sections": []
    },
    "kernelspec": {
      "name": "python3",
      "display_name": "Python 3"
    }
  },
  "cells": [
    {
      "cell_type": "code",
      "metadata": {
        "id": "np_VwTOnfwfQ"
      },
      "source": [
        "# Disciplina: Probabilidade e Estatística\n",
        "# Aluno: Thiago Gonçalves Milanez Alves\n",
        "# Matrícula: 20114290004\n",
        "# Lista 06\n",
        "\n",
        "#EX04\n",
        "'''import pandas as pd \n",
        "dados = {\n",
        "    'X':[12, 16, 18, 20, 28, 30, 40, 48, 50, 54],\n",
        "    'Y':[7.2, 7.4, 7.0, 6.5, 6.6, 6.7, 6.0, 5.6, 6.0, 5.5]\n",
        "}\n",
        "\n",
        "z = pd.DataFrame(dados, columns = ['X', 'Y'])\n",
        "correlacao = z.corr()\n",
        "print(correlacao)\n",
        "print('Correlação negativa e muito forte!')'''"
      ],
      "execution_count": null,
      "outputs": []
    }
  ]
}