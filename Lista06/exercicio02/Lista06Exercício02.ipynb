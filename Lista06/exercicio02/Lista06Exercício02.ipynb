{
  "nbformat": 4,
  "nbformat_minor": 0,
  "metadata": {
    "colab": {
      "name": "Lista06Exercício02.ipynb",
      "provenance": [],
      "collapsed_sections": []
    },
    "kernelspec": {
      "name": "python3",
      "display_name": "Python 3"
    }
  },
  "cells": [
    {
      "cell_type": "code",
      "metadata": {
        "id": "ozkh1fcPfxk6"
      },
      "source": [
        "# Disciplina: Probabilidade e Estatística\n",
        "# Aluno: Thiago Gonçalves Milanez Alves\n",
        "# Matrícula: 20114290004\n",
        "# Lista 06\n",
        "\n",
        "#EX02\n",
        "#O coeficiente de relação encontrado r = 0,207, sendo ele positivo indica uma correlação desprezível"
      ],
      "execution_count": null,
      "outputs": []
    }
  ]
}