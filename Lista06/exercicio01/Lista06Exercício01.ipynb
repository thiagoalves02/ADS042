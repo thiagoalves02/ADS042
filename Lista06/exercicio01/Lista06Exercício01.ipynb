{
  "nbformat": 4,
  "nbformat_minor": 0,
  "metadata": {
    "colab": {
      "name": "Lista06Exercício01.ipynb",
      "provenance": [],
      "collapsed_sections": []
    },
    "kernelspec": {
      "name": "python3",
      "display_name": "Python 3"
    }
  },
  "cells": [
    {
      "cell_type": "code",
      "metadata": {
        "id": "Xvk2vOG0fyVb"
      },
      "source": [
        "# Disciplina: Probabilidade e Estatística\n",
        "# Aluno: Thiago Gonçalves Milanez Alves\n",
        "# Matrícula: 20114290004\n",
        "# Lista 06\n",
        "\n",
        "#EX01\n",
        "'''import pandas as pd \n",
        "dados = {\n",
        "    'Matemática':[60, 58, 73, 51, 21, 75, 48, 72, 75, 83, 62, 52],\n",
        "    'Música':[80, 62, 70, 83, 62, 92, 79, 88, 54, 82, 64, 69]\n",
        "}\n",
        "\n",
        "x = pd.DataFrame(dados, columns = ['Matemática', 'Música'])\n",
        "correlacao = x.corr()\n",
        "print(correlacao)'''"
      ],
      "execution_count": null,
      "outputs": []
    }
  ]
}